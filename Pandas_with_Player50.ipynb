{
 "cells": [
  {
   "cell_type": "code",
   "execution_count": 1,
   "id": "liable-niagara",
   "metadata": {
    "scrolled": true
   },
   "outputs": [
    {
     "ename": "ModuleNotFoundError",
     "evalue": "No module named 'pandas'",
     "output_type": "error",
     "traceback": [
      "\u001b[1;31m---------------------------------------------------------------------------\u001b[0m",
      "\u001b[1;31mModuleNotFoundError\u001b[0m                       Traceback (most recent call last)",
      "\u001b[1;32m<ipython-input-1-7dd3504c366f>\u001b[0m in \u001b[0;36m<module>\u001b[1;34m\u001b[0m\n\u001b[1;32m----> 1\u001b[1;33m \u001b[1;32mimport\u001b[0m \u001b[0mpandas\u001b[0m \u001b[1;32mas\u001b[0m \u001b[0mpd\u001b[0m\u001b[1;33m\u001b[0m\u001b[1;33m\u001b[0m\u001b[0m\n\u001b[0m",
      "\u001b[1;31mModuleNotFoundError\u001b[0m: No module named 'pandas'"
     ]
    }
   ],
   "source": [
    "import pandas as pd"
   ]
  },
  {
   "cell_type": "code",
   "execution_count": null,
   "id": "specific-faculty",
   "metadata": {},
   "outputs": [],
   "source": [
    "## 데이터프레임 만들기"
   ]
  },
  {
   "cell_type": "code",
   "execution_count": null,
   "id": "thorough-grove",
   "metadata": {},
   "outputs": [],
   "source": [
    "df1=pd.DataFrame(\n",
    "    {\"이름\" : ['손흥민', '메시', '호날두'],\n",
    "     \"나이\" : [28, 33, 35],\n",
    "     \"소속\" : ['토트넘', '바르셀로나', '유벤투스']}\n",
    ")"
   ]
  },
  {
   "cell_type": "code",
   "execution_count": null,
   "id": "upset-albert",
   "metadata": {},
   "outputs": [],
   "source": [
    "df1"
   ]
  },
  {
   "cell_type": "code",
   "execution_count": null,
   "id": "strategic-yugoslavia",
   "metadata": {},
   "outputs": [],
   "source": [
    "df1=pd.DataFrame(\n",
    "    {\"이름\" : ['손흥민', '메시', '호날두'],\n",
    "     \"나이\" : [28, 33, 35],\n",
    "     \"소속\" : ['토트넘', '바르셀로나', '유벤투스']},\n",
    "    index = [1,2,3]\n",
    ")"
   ]
  },
  {
   "cell_type": "code",
   "execution_count": null,
   "id": "stopped-dryer",
   "metadata": {},
   "outputs": [],
   "source": [
    "df1"
   ]
  },
  {
   "cell_type": "code",
   "execution_count": null,
   "id": "friendly-ultimate",
   "metadata": {},
   "outputs": [],
   "source": [
    "player_list = [\n",
    "        ['손흥민', 2, '토트넘'],\n",
    "        ['메시', 33, '바르셀로나'],\n",
    "        ['호날두', 35, '유벤투스']\n",
    "    ]\n",
    "df2 = pd.DataFrame(player_list.columns=['이름', '나이', '소속'])"
   ]
  },
  {
   "cell_type": "code",
   "execution_count": null,
   "id": "super-pulse",
   "metadata": {},
   "outputs": [],
   "source": [
    "df2"
   ]
  },
  {
   "cell_type": "code",
   "execution_count": null,
   "id": "comprehensive-circumstances",
   "metadata": {},
   "outputs": [],
   "source": [
    "## csv파일 불러오기"
   ]
  },
  {
   "cell_type": "code",
   "execution_count": null,
   "id": "studied-incidence",
   "metadata": {},
   "outputs": [],
   "source": [
    "# 저장된 파일 불러오기\n",
    "pd.read_csv('')"
   ]
  },
  {
   "cell_type": "code",
   "execution_count": null,
   "id": "handy-harmony",
   "metadata": {},
   "outputs": [],
   "source": [
    "# 웹에 있는 파일 불러오기\n",
    "pd.read_csv('')"
   ]
  },
  {
   "cell_type": "code",
   "execution_count": null,
   "id": "sitting-swaziland",
   "metadata": {},
   "outputs": [],
   "source": [
    "# 상대 경로 이해: 하위 폴더에 있는 자료\n",
    "df=pd.read_csv('')"
   ]
  },
  {
   "cell_type": "code",
   "execution_count": null,
   "id": "featured-revelation",
   "metadata": {},
   "outputs": [],
   "source": []
  },
  {
   "cell_type": "code",
   "execution_count": null,
   "id": "medical-liquid",
   "metadata": {},
   "outputs": [],
   "source": [
    "## DataFrame 뜯어보기와 인덱싱"
   ]
  },
  {
   "cell_type": "code",
   "execution_count": null,
   "id": "enabling-marble",
   "metadata": {},
   "outputs": [],
   "source": [
    "df.shape #행과 열 개수 파악; 괄호 없음"
   ]
  },
  {
   "cell_type": "code",
   "execution_count": null,
   "id": "aggregate-auction",
   "metadata": {},
   "outputs": [],
   "source": [
    "rows"
   ]
  },
  {
   "cell_type": "code",
   "execution_count": null,
   "id": "touched-machine",
   "metadata": {},
   "outputs": [],
   "source": [
    "columns"
   ]
  },
  {
   "cell_type": "code",
   "execution_count": null,
   "id": "contained-appreciation",
   "metadata": {},
   "outputs": [],
   "source": [
    "df.info()"
   ]
  },
  {
   "cell_type": "code",
   "execution_count": null,
   "id": "concrete-lunch",
   "metadata": {},
   "outputs": [],
   "source": [
    "df.head() #5번째까지"
   ]
  },
  {
   "cell_type": "code",
   "execution_count": null,
   "id": "quarterly-baseline",
   "metadata": {},
   "outputs": [],
   "source": [
    "df.tail()"
   ]
  },
  {
   "cell_type": "code",
   "execution_count": null,
   "id": "liberal-mixture",
   "metadata": {},
   "outputs": [],
   "source": [
    "df.head(3) #앞에서 3번째까지"
   ]
  },
  {
   "cell_type": "code",
   "execution_count": null,
   "id": "canadian-blogger",
   "metadata": {},
   "outputs": [],
   "source": [
    "# df[:] 인덱싱\n",
    "df[0:5] #=df.head()"
   ]
  },
  {
   "cell_type": "code",
   "execution_count": null,
   "id": "passive-usage",
   "metadata": {},
   "outputs": [],
   "source": [
    "# 칼럼 이름으로 선택하기 df['칼럼이름']\n",
    "df.['name'].head()\n",
    "# name만 가져와서 처음 5개만 보여주기"
   ]
  },
  {
   "cell_type": "code",
   "execution_count": null,
   "id": "governmental-zambia",
   "metadata": {},
   "outputs": [],
   "source": [
    "# 여러 개 칼럼 이름 선택하기 - df[]안에 리스트로 삽입\n",
    "df[['number', 'name', 'nation']].head()\n",
    "# 'number', 'name', 'nation' 정보를 보여주기"
   ]
  },
  {
   "cell_type": "code",
   "execution_count": null,
   "id": "prescription-explosion",
   "metadata": {},
   "outputs": [],
   "source": [
    "## iloc와 loc"
   ]
  },
  {
   "cell_type": "code",
   "execution_count": null,
   "id": "characteristic-botswana",
   "metadata": {},
   "outputs": [],
   "source": [
    "df.iloc[0:2] # =df[0:2]"
   ]
  },
  {
   "cell_type": "code",
   "execution_count": null,
   "id": "marine-approval",
   "metadata": {},
   "outputs": [],
   "source": [
    "df.loc[0:2] # 2도 포함"
   ]
  },
  {
   "cell_type": "code",
   "execution_count": null,
   "id": "unnecessary-practice",
   "metadata": {},
   "outputs": [],
   "source": [
    "# 쉼표를 기준으로 행과 열 표시 df.loc[행이름, 열이름]\n",
    "df.loc[0,'name']\n",
    "# 첫번째 행의, 이름이 'name'인 값"
   ]
  },
  {
   "cell_type": "code",
   "execution_count": null,
   "id": "sitting-yorkshire",
   "metadata": {},
   "outputs": [],
   "source": [
    "df.loc[0:5, 'name', 'team', 'value']\n",
    "# 행은 처음부터 5까지, 열은 'name', 'team', 'value'인 값"
   ]
  },
  {
   "cell_type": "code",
   "execution_count": null,
   "id": "prerequisite-programming",
   "metadata": {},
   "outputs": [],
   "source": [
    "# 조건 인덱싱\n",
    "df['age']<=20"
   ]
  },
  {
   "cell_type": "code",
   "execution_count": null,
   "id": "acknowledged-background",
   "metadata": {},
   "outputs": [],
   "source": [
    "# 조건 색인\n",
    "df[df['age']<=20]"
   ]
  },
  {
   "cell_type": "code",
   "execution_count": null,
   "id": "invalid-upgrade",
   "metadata": {},
   "outputs": [],
   "source": [
    "df[df['team']=='Tottenham Hotspur']\n",
    "# 소속팀이 토트넘인 선수"
   ]
  },
  {
   "cell_type": "code",
   "execution_count": null,
   "id": "returning-showcase",
   "metadata": {},
   "outputs": [],
   "source": [
    "# 퀴즈: loc 조건으로 나이가 30이상인 선수의 'name'과 'value'를 가져오세요\n",
    "df.loc[df['age']>=30, ['name','value']]"
   ]
  },
  {
   "cell_type": "code",
   "execution_count": null,
   "id": "alone-diana",
   "metadata": {},
   "outputs": [],
   "source": []
  },
  {
   "cell_type": "code",
   "execution_count": null,
   "id": "relevant-alcohol",
   "metadata": {},
   "outputs": [],
   "source": [
    "## DataFrame 정렬하기와 칼럼바꾸기"
   ]
  },
  {
   "cell_type": "code",
   "execution_count": null,
   "id": "external-routine",
   "metadata": {},
   "outputs": [],
   "source": [
    "# 인덱스로 정렬하기 df.sort_index()\n",
    "df.head()\n",
    "df.sort_index().head()"
   ]
  },
  {
   "cell_type": "code",
   "execution_count": null,
   "id": "light-monthly",
   "metadata": {},
   "outputs": [],
   "source": [
    "# 내리차순 정렬하기 [ascending = False]"
   ]
  },
  {
   "cell_type": "code",
   "execution_count": null,
   "id": "incomplete-apparatus",
   "metadata": {},
   "outputs": [],
   "source": [
    "df.sort_index(ascendng=False)[:5]"
   ]
  },
  {
   "cell_type": "code",
   "execution_count": null,
   "id": "buried-suite",
   "metadata": {},
   "outputs": [],
   "source": [
    "# sort_values로 정렬하기 df.sort_values(칼럼이름)\n",
    "df.sort_values(\"age\".ascending=False).head()\n",
    "# 나이 많은 선수 10명 보여주기"
   ]
  },
  {
   "cell_type": "code",
   "execution_count": null,
   "id": "wrong-chile",
   "metadata": {},
   "outputs": [],
   "source": [
    "# 인덱스를 칼럼 이름으로 바꾸기 df.set_index(\"칼럼이름\")\n",
    "df.set_index('number').head()\n",
    "# number로 인덱스 바꿔보기"
   ]
  },
  {
   "cell_type": "code",
   "execution_count": null,
   "id": "durable-complex",
   "metadata": {},
   "outputs": [],
   "source": [
    "# 칼럼 이름 바꾸고 저장하기 : 'team'을 'club'으로 바꾸기\n",
    "df.rename(columns = {'team':'club'})"
   ]
  },
  {
   "cell_type": "code",
   "execution_count": null,
   "id": "instant-sacrifice",
   "metadata": {},
   "outputs": [],
   "source": [
    "df.head() #하면 저장 안되어 있음"
   ]
  },
  {
   "cell_type": "code",
   "execution_count": null,
   "id": "finite-connection",
   "metadata": {},
   "outputs": [],
   "source": [
    "df.rename(columns = {'team':'club'}, inplace=True)"
   ]
  },
  {
   "cell_type": "code",
   "execution_count": null,
   "id": "increasing-swing",
   "metadata": {},
   "outputs": [],
   "source": []
  },
  {
   "cell_type": "code",
   "execution_count": null,
   "id": "biological-found",
   "metadata": {},
   "outputs": [],
   "source": [
    "## 데이터 전처리(pre-processing)"
   ]
  },
  {
   "cell_type": "code",
   "execution_count": null,
   "id": "treated-verse",
   "metadata": {},
   "outputs": [],
   "source": [
    "# value 값에서 불필요한 문자 제거하고 데이터 타입을 숫자형으로 바꾸기\n",
    "# 예: \\90.00m -> 90.00\n",
    "df['value'] = df.['value'].str.replace('\\','')\n",
    "df['value'] = df.['value'].str.replace('m','').astype(float)\n",
    "df.info"
   ]
  },
  {
   "cell_type": "code",
   "execution_count": null,
   "id": "extra-finding",
   "metadata": {},
   "outputs": [],
   "source": [
    "## 칼럼의 생성과 삭제"
   ]
  },
  {
   "cell_type": "code",
   "execution_count": null,
   "id": "fourth-drive",
   "metadata": {},
   "outputs": [],
   "source": [
    "df.head()"
   ]
  },
  {
   "cell_type": "code",
   "execution_count": null,
   "id": "brown-dylan",
   "metadata": {},
   "outputs": [],
   "source": [
    "# 칼럼 생성\n",
    "df['시장가치(억)']=df['value']*13\n",
    "df.head()"
   ]
  },
  {
   "cell_type": "code",
   "execution_count": null,
   "id": "fourth-vampire",
   "metadata": {},
   "outputs": [],
   "source": [
    "# 칼럼 삭제 df.drop(columns=['칼럼이름'])\n",
    "df.drop(columns=['value'], inplace=True)\n"
   ]
  },
  {
   "cell_type": "code",
   "execution_count": null,
   "id": "dominant-columbia",
   "metadata": {},
   "outputs": [],
   "source": [
    "df.head()"
   ]
  },
  {
   "cell_type": "code",
   "execution_count": null,
   "id": "registered-compact",
   "metadata": {},
   "outputs": [],
   "source": [
    "#(3.3강 13'20~14'30 : 데이터 수집 시 숫자만 가져오는 방법)#"
   ]
  },
  {
   "cell_type": "code",
   "execution_count": null,
   "id": "touched-logging",
   "metadata": {},
   "outputs": [],
   "source": []
  },
  {
   "cell_type": "code",
   "execution_count": null,
   "id": "massive-jacket",
   "metadata": {},
   "outputs": [],
   "source": [
    "## DataFrame 통계분석과 groupby()"
   ]
  },
  {
   "cell_type": "code",
   "execution_count": null,
   "id": "public-wilson",
   "metadata": {},
   "outputs": [],
   "source": [
    "# 숫자형 데이터에 대한 통계\n",
    "df.describe()"
   ]
  },
  {
   "cell_type": "code",
   "execution_count": null,
   "id": "resident-tiffany",
   "metadata": {},
   "outputs": [],
   "source": [
    "# df[칼럼이름].mean()\n",
    "df['age'].mean()\n",
    "# 나이 평균 구하기"
   ]
  },
  {
   "cell_type": "code",
   "execution_count": null,
   "id": "organic-healing",
   "metadata": {},
   "outputs": [],
   "source": [
    "# 몸값 합계 구하기 sum()\n",
    "df['시장가치(억)'].sum()"
   ]
  },
  {
   "cell_type": "code",
   "execution_count": null,
   "id": "comic-still",
   "metadata": {},
   "outputs": [],
   "source": [
    "# 선수들이 속한 가장 많은 나라? 최빈값 mode()\n",
    "df['nation'].mode()"
   ]
  },
  {
   "cell_type": "code",
   "execution_count": null,
   "id": "verbal-palestine",
   "metadata": {},
   "outputs": [],
   "source": [
    "# 국적이 Brazil인 선수들\n",
    "df[df['nation']=='Brazil']"
   ]
  },
  {
   "cell_type": "code",
   "execution_count": null,
   "id": "polish-mozambique",
   "metadata": {},
   "outputs": [],
   "source": [
    "## groupby()"
   ]
  },
  {
   "cell_type": "code",
   "execution_count": null,
   "id": "outdoor-geography",
   "metadata": {},
   "outputs": [],
   "source": [
    "# 데이터를 그룹으로 묶어 분석\n",
    "df.groupby('nation')"
   ]
  },
  {
   "cell_type": "code",
   "execution_count": null,
   "id": "equipped-hudson",
   "metadata": {},
   "outputs": [],
   "source": [
    "g=df.groupby('nation')\n",
    "g.size()"
   ]
  },
  {
   "cell_type": "code",
   "execution_count": null,
   "id": "conscious-parish",
   "metadata": {},
   "outputs": [],
   "source": [
    "g.count()"
   ]
  },
  {
   "cell_type": "code",
   "execution_count": null,
   "id": "mysterious-stomach",
   "metadata": {},
   "outputs": [],
   "source": [
    "# 수치형 데이터 총합 알아보기\n",
    "g.sum()"
   ]
  },
  {
   "cell_type": "code",
   "execution_count": null,
   "id": "appreciated-marina",
   "metadata": {},
   "outputs": [],
   "source": [
    "# 나라별 시장가치 총합\n",
    "g['시장가치(억)'].sum()"
   ]
  },
  {
   "cell_type": "code",
   "execution_count": null,
   "id": "split-prairie",
   "metadata": {},
   "outputs": [],
   "source": []
  },
  {
   "cell_type": "code",
   "execution_count": null,
   "id": "golden-nebraska",
   "metadata": {},
   "outputs": [],
   "source": [
    "## 퀴즈: 선수들의 몸값의 합이 가장 큰 클럽별로 정렬해서 보여주기"
   ]
  },
  {
   "cell_type": "code",
   "execution_count": null,
   "id": "usual-arena",
   "metadata": {},
   "outputs": [],
   "source": [
    "c = df.groupby(\"club\")\n",
    "c.sum()\n",
    "c['시장가치(억)'].sum().sort_values(ascending=False)\n"
   ]
  }
 ],
 "metadata": {
  "kernelspec": {
   "display_name": "Python 3",
   "language": "python",
   "name": "python3"
  },
  "language_info": {
   "codemirror_mode": {
    "name": "ipython",
    "version": 3
   },
   "file_extension": ".py",
   "mimetype": "text/x-python",
   "name": "python",
   "nbconvert_exporter": "python",
   "pygments_lexer": "ipython3",
   "version": "3.6.12"
  }
 },
 "nbformat": 4,
 "nbformat_minor": 5
}
